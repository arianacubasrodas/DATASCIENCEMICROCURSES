{
  "nbformat": 4,
  "nbformat_minor": 0,
  "metadata": {
    "colab": {
      "provenance": []
    },
    "kernelspec": {
      "name": "python3",
      "display_name": "Python 3"
    },
    "language_info": {
      "name": "python"
    }
  },
  "cells": [
    {
      "cell_type": "markdown",
      "source": [
        "# Data Science Tools and Ecosystem"
      ],
      "metadata": {
        "id": "ElgzfTieg494"
      }
    },
    {
      "cell_type": "markdown",
      "source": [
        "## In this notebook, Data Science Tools and Ecosystem are summarized."
      ],
      "metadata": {
        "id": "ZT6gtub6hyCg"
      }
    },
    {
      "cell_type": "markdown",
      "source": [
        "### Some of the popular languages that Data Scientists use are:\n",
        "\n",
        "\n",
        "1.   Python\n",
        "2.   R\n",
        "3. SQL\n",
        "\n"
      ],
      "metadata": {
        "id": "tNrlcG-dh9YO"
      }
    },
    {
      "cell_type": "markdown",
      "source": [
        "###Some of the commonly used libraries used by Data Scientists include:\n",
        "1. Pandas\n",
        "2. NumPy\n",
        "3. Scikit-learn"
      ],
      "metadata": {
        "id": "DhnHoXdQiIhM"
      }
    },
    {
      "cell_type": "markdown",
      "source": [
        "| Data Science Tools |\n",
        "|--------------------|\n",
        "| Jupyter Notebook   |\n",
        "| RStudio            |\n",
        "| Apache Zeppelin    |\n"
      ],
      "metadata": {
        "id": "AUmOwBiwiUtf"
      }
    },
    {
      "cell_type": "markdown",
      "source": [
        "###Below are a few examples of evaluating arithmetic expressions in Python."
      ],
      "metadata": {
        "id": "M7Z8xFh1lCcf"
      }
    },
    {
      "cell_type": "code",
      "execution_count": 2,
      "metadata": {
        "colab": {
          "base_uri": "https://localhost:8080/"
        },
        "id": "YpJ-NqPWgunP",
        "outputId": "74a7daca-b070-4243-da03-98eac00af63c"
      },
      "outputs": [
        {
          "output_type": "execute_result",
          "data": {
            "text/plain": [
              "17"
            ]
          },
          "metadata": {},
          "execution_count": 2
        }
      ],
      "source": [
        "# This is a simple arithmetic expression to multiply then add integers\n",
        "result = (3*4) + 5\n",
        "result\n"
      ]
    },
    {
      "cell_type": "code",
      "source": [
        "# This will convert 200 minutes to hours by dividing by 60\n",
        "minutes = 200\n",
        "hours = minutes / 60\n",
        "hours\n"
      ],
      "metadata": {
        "colab": {
          "base_uri": "https://localhost:8080/"
        },
        "id": "ZLQzgW9pjEwG",
        "outputId": "33f1f494-3549-415e-ff2a-5a9f89b71b10"
      },
      "execution_count": 3,
      "outputs": [
        {
          "output_type": "execute_result",
          "data": {
            "text/plain": [
              "3.3333333333333335"
            ]
          },
          "metadata": {},
          "execution_count": 3
        }
      ]
    },
    {
      "cell_type": "markdown",
      "source": [
        "**Objectives:**\n",
        "- List popular languages for Data Science\n",
        "- List popular libraries for Data Science\n",
        "- Demonstrate basic arithmetic operations in Python\n"
      ],
      "metadata": {
        "id": "9ojxih4NjJo6"
      }
    },
    {
      "cell_type": "markdown",
      "source": [
        "## Author\n",
        "Ariana Cubas\n"
      ],
      "metadata": {
        "id": "Gfw7yEV7jNNi"
      }
    }
  ]
}